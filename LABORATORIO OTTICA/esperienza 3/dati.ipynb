{
 "cells": [
  {
   "cell_type": "code",
   "execution_count": null,
   "metadata": {},
   "outputs": [
    {
     "name": "stdout",
     "output_type": "stream",
     "text": [
      "Dbhetha:  [0.0037608  0.00545488 0.00643858 0.00753116 0.00866621]\n",
      "DG: [0.21655385 0.24913234 0.29023898 0.30015551 0.32198328]\n",
      "Dbheta 0.0030246579732788495\n",
      "DApha 0.0026240410231756907\n"
     ]
    }
   ],
   "source": [
    "import numpy as np\n",
    "import Tiamat as tiam\n",
    "\n",
    "\"\"\" lente \"\"\"\n",
    "def f(DX,DY,x,y):\n",
    "    return DX/y+(DY*x)/(y**2)\n",
    "\n",
    "x = np.array([4.1,2.8,2.6,2.2,1.9])\n",
    "y = np.array([30.2,20.8,17.8,15.2,13.2])\n",
    "DX = np.array([0.1,0.1,0.1,0.1,0.1])\n",
    "DY = DX\n",
    "\n",
    "Dbetha = f(DX,DY,x,y)\n",
    "print(\"Dbhetha: \",Dbetha)\n",
    "\n",
    "alpha = np.array([0.052,0.052,0.052,0.052,0.052])\n",
    "Dalpha = np.array([0.003,0.003,0.003,0.003,0.003])\n",
    "betha = np.array([0.13,0.13,0.15,0.14,0.14])\n",
    "print(\"DG:\",f(Dbetha,Dalpha,betha,alpha))\n",
    "\n",
    "\"\"\"microscopio\"\"\"\n",
    "\n",
    "y2 = 6.6\n",
    "DY2 = 0.1\n",
    "Qr = 38.7\n",
    "DQr = 0.1\n",
    "\n",
    "DbehtaM = f(DY2,DQr,y2,Qr)\n",
    "print(\"Dbheta (miscroscopio)\",DbehtaM)\n",
    "\n",
    "Y0 = 0.6\n",
    "DY0 = 0.1\n",
    "DalphaM = f(DY0,DQr,Y0,Qr)\n",
    "print(\"DApha\",DalphaM)\n",
    "\n",
    "print(\"DG'\",f(DbehtaM,DalphaM,0.170,0.015))"
   ]
  },
  {
   "cell_type": "code",
   "execution_count": null,
   "metadata": {},
   "outputs": [],
   "source": []
  }
 ],
 "metadata": {
  "kernelspec": {
   "display_name": "Python 3",
   "language": "python",
   "name": "python3"
  },
  "language_info": {
   "codemirror_mode": {
    "name": "ipython",
    "version": 3
   },
   "file_extension": ".py",
   "mimetype": "text/x-python",
   "name": "python",
   "nbconvert_exporter": "python",
   "pygments_lexer": "ipython3",
   "version": "3.12.9"
  }
 },
 "nbformat": 4,
 "nbformat_minor": 2
}
